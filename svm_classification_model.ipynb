{
 "cells": [
  {
   "cell_type": "markdown",
   "id": "d343ef8d",
   "metadata": {},
   "source": [
    "# SVM Classification model for document class prediction"
   ]
  },
  {
   "cell_type": "markdown",
   "id": "543e096e",
   "metadata": {},
   "source": [
    "## Part 1 : data preparation"
   ]
  },
  {
   "cell_type": "markdown",
   "id": "0946a44d",
   "metadata": {},
   "source": [
    "### 1.A. Extraction of top labels (in terms of frequency) and the associated label (the outputs)"
   ]
  },
  {
   "cell_type": "code",
   "execution_count": 38,
   "id": "be5b6cbd",
   "metadata": {},
   "outputs": [],
   "source": [
    "import os\n",
    "import re\n",
    "import numpy as np\n",
    "from sklearn import svm\n",
    "\n",
    "\n",
    "sources_directory = \"./CC/CC-src\""
   ]
  },
  {
   "cell_type": "code",
   "execution_count": 39,
   "id": "8ff97fe7",
   "metadata": {},
   "outputs": [],
   "source": [
    "list_sources = os.listdir(sources_directory)"
   ]
  },
  {
   "cell_type": "code",
   "execution_count": 40,
   "id": "43b1a654",
   "metadata": {},
   "outputs": [
    {
     "name": "stdout",
     "output_type": "stream",
     "text": [
      "94.27474253796474\n"
     ]
    }
   ],
   "source": [
    "tex_files = []\n",
    "class_per_source = []\n",
    "sources_names = []\n",
    "cpt = 0\n",
    "\n",
    "for source in list_sources:\n",
    "    sources_names.append(source)\n",
    "    classes = []\n",
    "    for file_name in os.listdir(sources_directory + \"/\" + source):\n",
    "        if file_name.__contains__(\".tex\") and not file_name.__contains__(\".bak\"):\n",
    "            tex_files.append(file_name)\n",
    "            try:\n",
    "                data = open(sources_directory + \"/\" + source + \"/\" + file_name).read()\n",
    "                for doc_class in re.findall(r'documentclass(.*)}', data):\n",
    "                    if not doc_class.__contains__('{'):\n",
    "                        pass#print(doc_class) # One problematic case over all examples\n",
    "                    else:\n",
    "                        doc_class = doc_class.split('{', 1)[1]\n",
    "                        doc_class = doc_class.split('}', 1)[0]\n",
    "                        classes.append(doc_class)\n",
    "            except UnicodeDecodeError as error:\n",
    "                #print(error)\n",
    "                pass # Some files can't be read ... \n",
    "            \n",
    "    if len(classes) > 0:\n",
    "        classes = classes[0]\n",
    "        cpt = cpt+1\n",
    "    \n",
    "    else:\n",
    "        classes = None \n",
    "        \n",
    "    class_per_source.append(classes)\n",
    "            \n",
    "print(100 * (cpt / len(list_sources)))"
   ]
  },
  {
   "cell_type": "code",
   "execution_count": 41,
   "id": "1d99b24d",
   "metadata": {},
   "outputs": [
    {
     "name": "stdout",
     "output_type": "stream",
     "text": [
      "5729\n"
     ]
    }
   ],
   "source": [
    "#print(class_per_source)\n",
    "print(len(class_per_source))"
   ]
  },
  {
   "cell_type": "code",
   "execution_count": 42,
   "id": "69085550",
   "metadata": {},
   "outputs": [
    {
     "name": "stdout",
     "output_type": "stream",
     "text": [
      "5729\n"
     ]
    }
   ],
   "source": [
    "#print(sources_names)\n",
    "print(len(sources_names))"
   ]
  },
  {
   "cell_type": "code",
   "execution_count": 43,
   "id": "23a2d358",
   "metadata": {
    "scrolled": true
   },
   "outputs": [],
   "source": [
    "from collections import Counter\n",
    "\n",
    "classes = {x:class_per_source.count(x) for x in class_per_source}\n",
    "\n",
    "size_of_trainable_sources = len(sources_names) - classes[None] - classes['article'] - 2\n",
    "\n",
    "del classes[None]\n",
    "del classes['article']\n",
    "\n",
    "sorted_classes = sorted(classes, key=classes.get, reverse=True)\n",
    "\n",
    "nb_classes = range(1, len(classes.keys()))\n",
    "pct_covered_sources = []\n",
    "\n",
    "for value in nb_classes:\n",
    "    problem_classes = sorted_classes[:value]\n",
    "\n",
    "    covered_sources_with_pb_classes = 0\n",
    "\n",
    "    for pb_class in problem_classes: \n",
    "        covered_sources_with_pb_classes += classes[pb_class] / size_of_trainable_sources\n",
    "        \n",
    "    pct_covered_sources.append(100 * covered_sources_with_pb_classes)"
   ]
  },
  {
   "cell_type": "code",
   "execution_count": 44,
   "id": "736b9de7",
   "metadata": {},
   "outputs": [
    {
     "data": {
      "image/png": "[encoded data removed]",
      "text/plain": [
       "<Figure size 1080x576 with 1 Axes>"
      ]
     },
     "metadata": {
      "needs_background": "light"
     },
     "output_type": "display_data"
    }
   ],
   "source": [
    "import matplotlib.pyplot as plt\n",
    "\n",
    "plt.figure(figsize=(15, 8))\n",
    "plt.plot(nb_classes, pct_covered_sources)\n",
    "plt.xlabel(\"Number of classes\")\n",
    "plt.ylabel(\"Percentage of covered sources\")\n",
    "plt.title(\"Percentage of covered sources in function of the number of classes\")\n",
    "plt.show()"
   ]
  },
  {
   "cell_type": "code",
   "execution_count": 45,
   "id": "6dc15a3e",
   "metadata": {},
   "outputs": [
    {
     "name": "stdout",
     "output_type": "stream",
     "text": [
      "Percentage of covered sources with 15 classes : 79.04592064199733\n"
     ]
    }
   ],
   "source": [
    "k = 15 # Number of classes in the model\n",
    "\n",
    "problem_classes = sorted_classes[:k]\n",
    "\n",
    "covered_sources_with_pb_classes = 0\n",
    "\n",
    "for pb_class in problem_classes: \n",
    "    covered_sources_with_pb_classes += classes[pb_class] / size_of_trainable_sources\n",
    "    \n",
    "print(\"Percentage of covered sources with \" + str(k) + \" classes : \" + str(100 * covered_sources_with_pb_classes))"
   ]
  },
  {
   "cell_type": "code",
   "execution_count": 46,
   "id": "3ee97321",
   "metadata": {},
   "outputs": [],
   "source": [
    "trainable_file_names = []\n",
    "trainable_outputs = []\n",
    "\n",
    "for index in range(0, len(sources_names) - 2): # - 2 since there are also two folders \"compressed\" and \"tmp\"\n",
    "    if not(class_per_source[index] == None or class_per_source[index] == \"article\"):\n",
    "        if class_per_source[index] in problem_classes:\n",
    "            trainable_outputs.append(class_per_source[index])\n",
    "            trainable_file_names.append(sources_names[index])"
   ]
  },
  {
   "cell_type": "code",
   "execution_count": 47,
   "id": "257aadbe",
   "metadata": {},
   "outputs": [
    {
     "name": "stdout",
     "output_type": "stream",
     "text": [
      "1773\n",
      "['0904.3169', '0904.3273', '0905.1202', '0905.1215', '0905.3108', '0906.1489', '0906.2154', '0906.2812', '0906.3051', '0906.3119', '0906.3197', '0906.3199', '0906.3208', '0906.3213', '0906.3225', '0906.3227', '0906.3228', '0906.3231', '0906.3248', '0906.3251', '0906.3284', '0906.3306', '0906.3327', '0906.3329', '0906.3332', '0906.3765', '0906.4162', '0907.1579', '0907.2850', '0907.3117', '0907.3780', '0907.4488', '0907.4775', '0907.5130', '0907.5575', '0908.1599', '0908.2122', '0908.2782', '0908.3954', '0908.3981', '0908.4041', '0908.4494', '0909.1102', '0909.1594', '0909.2694', '0909.3005', '0909.3787', '0909.4766', '0909.5029', '0909.5038', '0909.5097', '0909.5099', '0909.5293', '0910.0582', '0910.1268', '0910.2058', '0910.2443', '0910.4224', '0910.4353', '0910.5107', '0910.5819', '0911.2280', '0911.2317', '0911.2322', '0911.2325', '0911.3438', '0911.3492', '0911.3674', '0911.3708', '0911.4322', '0912.0309', '0912.0746', '0912.1050', '0912.2607', '0912.2652', '0912.3134', '0912.4807', '1001.0041', '1001.0595', '1001.1139', '1001.3116', '1001.4255', '1001.4829', '1001.5404', '1002.0145', '1002.0217', '1002.0739', '1002.0986', '1002.1290', '1002.1880', '1002.2970', '1002.3769', '1003.0514', '1003.1057', '1003.1443', '1003.2839', '1003.2851', '1003.3508', '1003.4679', '1003.4865', '1003.5831', '1004.0658', '1004.0744', '1004.1696', '1004.2030', '1004.2159', '1004.2338', '1004.2425', '1004.2642', '1004.2882', '1004.2899', '1004.3020', '1004.3811', '1004.4802', '1004.4960', '1004.5329', '1004.5409', '1005.0519', '1005.0521', '1005.0522', '1005.3010', '1005.3011', '1005.4874', '1005.5584', '1005.5608', '1006.0220', '1006.0394', '1006.0399', '1006.0400', '1006.0402', '1006.0403', '1006.0406', '1006.0701', '1006.1315', '1006.1409', '1006.1411', '1006.1419', '1006.1423', '1006.2063', '1006.2461', '1006.3275', '1006.4014', '1006.4388', '1006.4524', '1006.4625', '1006.4923', '1006.5234', '1006.5352', '1007.0602', '1007.0776', '1007.1146', '1007.2316', '1007.2924', '1007.3624', '1008.0521', '1008.0821', '1008.1498', '1008.1649', '1008.1666', '1008.2005', '1008.2952', '1008.4420', '1008.4563', '1008.4844', '1009.0358', '1009.1174', '1009.1208', '1009.1635', '1009.2577', '1009.4102', '1009.4597', '1009.5029', '1009.5108', '1010.1128', '1010.1982', '1010.2420', '1010.3060', '1010.4855', '1010.5951', '1011.0217', '1011.1338', '1011.1350', '1011.2887', '1011.2894', '1011.4128', '1011.4686', '1011.5447', '1011.5737', '1011.6021', '1011.6239', '1012.0531', '1012.0672', '1012.0956', '1012.2081', '1012.2088', '1012.2440', '1012.2648', '1012.3828', '1012.4019', '1012.5563', '1101.2637', '1101.2642', '1101.3521', '1101.3837', '1101.4795', '1101.5227', '1101.5444', '1101.6038', '1102.0072', '1102.0666', '1102.0686', '1102.0908', '1102.0969', '1102.1199', '1102.1208', '1102.2095', '1102.2719', '1102.2782', '1102.2880', '1102.3527', '1102.3766', '1102.4121', '1102.4129', '1102.5152', '1102.5309', '1102.5605', '1103.0853', '1103.1127', '1103.1604', '1103.2201', '1103.2809', '1103.3017', '1103.3656', '1103.4990', '1103.5215', '1103.5560', '1104.0607', '1104.1034', '1104.1135', '1104.1410', '1104.2074', '1104.2524', '1104.2538', '1104.2816', '1104.2818', '1104.2970', '1104.3148', '1104.5642', '1105.0165', '1105.0433', '1105.0845', '1105.0979', '1105.1842', '1105.2003', '1105.3252', '1105.3454', '1105.6073', '1106.1236', '1106.1241', '1106.2104', '1106.2122', '1106.2378', '1106.2619', '1106.3161', '1106.4606', '1106.4719', '1107.0056', '1107.0919', '1107.1434', '1107.1963', '1107.2321', '1107.2722', '1107.3271', '1107.4021', '1107.4196', '1107.5419', '1108.1915', '1108.2464', '1108.2613', '1108.3638', '1108.3639', '1108.3653', '1108.5148', '1108.5405', '1109.1724', '1109.3367', '1109.3627', '1109.4017', '1109.4623', '1109.6147', '1109.6872', '1110.0200', '1110.0461', '1110.0623', '1110.0693', '1110.0812', '1110.0892', '1110.1864', '1110.1894', '1110.2065', '1110.2230', '1110.3639', '1110.4201', '1110.5355', '1110.6271', '1110.6387', '1111.0492', '1111.0706', '1111.2127', '1111.3048', '1111.3125', '1111.4372', '1111.4949', '1111.5979', '1111.6616', '1112.0987', '1112.1564', '1112.2000', '1112.2012', '1112.2495', '1112.2974', '1112.2993', '1112.4523', '1112.4536', '1112.6007', '1112.6140', '1201.0043', '1201.0410', '1201.0825', '1201.1119', '1201.1122', '1201.1223', '1201.1814', '1201.2474', '1201.2780', '1201.3091', '1201.4363', '1201.5853', '1202.0313', '1202.1194', '1202.1936', '1202.3855', '1202.4301', '1202.5184', '1202.5762', '1202.6043', '1202.6530', '1202.6581', '1203.0586', '1203.0631', '1203.0833', '1203.1080', '1203.1754', '1203.1876', '1203.1895', '1203.2602', '1203.2888', '1203.3674', '1203.3967', '1203.4063', '1203.4667', '1203.6161', '1203.6878', '1204.0949', '1204.1079', '1204.1113', '1204.1292', '1204.1580', '1204.2026', '1204.2201', '1204.2652', '1204.3022', '1204.3986', '1204.4379', '1204.4564', '1204.4693', '1204.5224', '1204.6588', '1205.0606', '1205.0679', '1205.0991', '1205.1050', '1205.1473', '1205.3728', '1205.4124', '1205.4821', '1205.5324', '1205.7041', '1206.1530', '1206.1775', '1206.2497', '1206.4081', '1206.6318', '1207.0158', '1207.0393', '1207.0663', '1207.1238', '1207.3586', '1207.4694', '1207.5321', '1207.5696', '1207.6188', '1207.6696', '1207.7034', '1207.7134', '1207.7148', '1208.0539', '1208.2751', '1208.2755', '1208.2756', '1208.2757', '1208.2758', '1208.2759', '1208.2760', '1208.2762', '1208.2763', '1208.2764', '1208.2765', '1208.2766', '1208.2767', '1208.2768', '1208.2769', '1208.2770', '1208.2771', '1208.2920', '1208.3639', '1208.3751', '1208.4930', '1208.5589', '1209.1664', '1209.1750', '1209.2713', '1209.3865', '1209.4865', '1209.5267', '1209.5669', '1209.5932', '1210.0340', '1210.0420', '1210.0811', '1210.2455', '1210.2481', '1210.3321', '1210.3978', '1210.5879', '1210.7136', '1211.1490', '1211.1636', '1211.3492', '1211.4974', '1211.5729', '1211.5773', '1211.6320', '1211.7138', '1212.0191', '1212.1941', '1212.1942', '1212.3217', '1212.3282', '1212.3380', '1212.6567', '1212.6725', '1212.6925', '1301.0027', '1301.3189', '1301.3297', '1302.0275', '1302.0290', '1302.0487', '1302.0566', '1302.1170', '1302.3494', '1302.3496', '1302.3673', '1302.3741', '1302.4266', '1302.4625', '1302.5366', '1302.5671', '1302.6334', '1302.6411', '1302.6500', '1302.6861', '1303.0041', '1303.0478', '1303.0798', '1303.1969', '1303.2974', '1303.4408', '1303.5601', '1303.6129', '1303.6424', '1303.7122', '1303.7328', '1303.7361', '1303.7455', '1304.0053', '1304.0188', '1304.0513', '1304.3169', '1304.3249', '1304.3876', '1304.4642', '1304.4986', '1304.5479', '1304.5617', '1304.5777', '1304.5808', '1304.5934', '1304.6333', '1304.6870', '1304.7038', '1304.8046', '1305.0453', '1305.0779', '1305.1295', '1305.2039', '1305.2154', '1305.2796', '1305.3041', '1305.3102', '1305.3735', '1305.3769', '1305.3944', '1305.4440', '1305.5561', '1305.6076', '1305.6306', '1305.6669', '1305.7387', '1306.0322', '1306.1114', '1306.2171', '1306.2187', '1306.3677', '1306.4151', '1306.5053', '1306.5088', '1307.0189', '1307.1157', '1307.3681', '1307.3682', '1307.3913', '1307.4466', '1307.4479', '1307.4897', '1307.4910', '1307.6357', '1307.7176', '1307.7220', '1307.7430', '1307.8425', '1308.0497', '1308.1084', '1308.2409', '1308.2858', '1308.3613', '1308.3665', '1308.4803', '1308.6007', '1308.6206', '1308.6833', '1309.0486', '1309.1265', '1309.1269', '1309.1270', '1309.1274', '1309.1914', '1309.4514', '1309.4718', '1309.4767', '1309.5009', '1309.5128', '1309.5130', '1309.5314', '1309.5405', '1309.5862', '1309.6504', '1309.7288', '1309.7457', '1309.7739', '1310.0967', '1310.1362', '1310.1428', '1310.3673', '1310.4141', '1310.4588', '1310.5037', '1310.5246', '1310.7954', '1311.0849', '1311.2466', '1311.3054', '1311.3297', '1311.3607', '1311.3826', '1311.6309', '1311.7523', '1312.0496', '1312.1674', '1312.1826', '1312.2226', '1312.2496', '1312.3537', '1312.3892', '1312.4075', '1312.4414', '1312.5686', '1312.6582', '1312.7305', '1312.7468', '1312.7605', '1312.7615', '1401.1059', '1401.1125', '1401.2187', '1401.2532', '1401.4879', '1401.6030', '1401.6307', '1401.6520', '1401.8046', '1401.8135', '1402.1429', '1402.1810', '1402.1811', '1402.2371', '1402.3449', '1402.3452', '1402.4346', '1402.4376', '1402.4515', '1402.4926', '1402.5078', '1402.5311', '1402.5449', '1402.5687', '1402.5950', '1402.6658', '1402.6970', '1402.7254', '1403.0222', '1403.0417', '1403.0476', '1403.0509', '1403.0885', '1403.1185', '1403.1911', '1403.2926', '1403.3157', '1403.3841', '1403.4153', '1403.4622', '1403.6347', '1403.6518', '1404.0075', '1404.0117', '1404.0606', '1404.0653', '1404.0753', '1404.0842', '1404.1684', '1404.1689', '1404.2761', '1404.3131', '1404.3166', '1404.3320', '1404.3675', '1404.3801', '1404.4859', '1404.5169', '1404.5424', '1404.5565', '1404.5985', '1404.6175', '1405.0847', '1405.1655', '1405.2447', '1405.2749', '1405.4472', '1405.5606', '1405.5609', '1405.5610', '1405.5975', '1405.6043', '1405.6851', '1405.7112', '1405.7375', '1405.7849', '1406.0073', '1406.0373', '1406.1623', '1406.3047', '1406.3247', '1406.3715', '1406.4048', '1406.4682', '1406.4718', '1406.4829', '1406.5145', '1406.5306', '1406.5826', '1406.6259', '1406.7398', '1406.7658', '1406.7855', '1407.0491', '1407.0628', '1407.0950', '1407.1480', '1407.1482', '1407.1779', '1407.1891', '1407.3130', '1407.5144', '1407.6169', '1407.6958', '1407.7216', '1407.7342', '1407.7592', '1408.0890', '1408.0948', '1408.1017', '1408.1390', '1408.2260', '1408.3712', '1408.5274', '1408.5282', '1408.5752', '1408.5958', '1408.6351', '1408.6509', '1408.6695', '1408.6829', '1409.0375', '1409.0451', '1409.0742', '1409.1534', '1409.2170', '1409.2426', '1409.2433', '1409.4299', '1409.4601', '1409.6792', '1409.7261', '1409.8228', '1409.8464', '1410.0245', '1410.0589', '1410.1318', '1410.3277', '1410.4044', '1410.5000', '1410.5037', '1410.5297', '1410.6072', '1410.6298', '1410.7082', '1410.7328', '1410.8202', '1410.8253', '1410.8585', '1410.8819', '1410.8852', '1411.0264', '1411.1582', '1411.1977', '1411.3164', '1411.3419', '1411.3517', '1411.5951', '1411.6549', '1411.6829', '1412.0279', '1412.0423', '1412.1188', '1412.2460', '1412.2470', '1412.2559', '1412.3095', '1412.3246', '1412.3570', '1412.4203', '1412.4259', '1412.4273', '1412.6268', '1412.6787', '1501.00265', '1501.00850', '1501.00894', '1501.01696', '1501.03837', '1501.05104', '1501.05800', '1501.05814', '1501.06281', '1501.06729', '1501.07195', '1502.00067', '1502.01255', '1502.01257', '1502.01462', '1502.02563', '1502.03316', '1502.03540', '1502.03847', '1502.04226', '1502.04341', '1502.04545', '1502.04700', '1502.04803', '1502.05828', '1502.05910', '1502.07258', '1503.00138', '1503.00141', '1503.00260', '1503.00448', '1503.02217', '1503.05879', '1503.06321', '1503.06572', '1503.07691', '1503.07705', '1503.08659', '1503.09016', '1504.00143', '1504.00442', '1504.01130', '1504.01167', '1504.01459', '1504.02072', '1504.02146', '1504.02444', '1504.03732', '1504.04181', '1504.04708', '1504.05171', '1504.05666', '1504.06135', '1504.06187', '1504.06731', '1504.07648', '1504.07697', '1505.00058', '1505.01964', '1505.02205', '1505.03218', '1505.04274', '1505.05079', '1505.05900', '1505.06025', '1505.06508', '1505.06595', '1505.06802', '1506.00479', '1506.01695', '1506.01930', '1506.03760', '1506.04184', '1506.04882', '1506.06107', '1506.06540', '1506.06564', '1506.06633', '1506.07002', '1506.07080', '1506.07234', '1506.07905', '1506.08311', '1506.08388', '1507.00213', '1507.00829', '1507.00931', '1507.01906', '1507.02067', '1507.02184', '1507.03046', '1507.03439', '1507.03844', '1507.03885', '1507.04391', '1507.04820', '1507.05485', '1507.05841', '1507.06865', '1507.07581', '1507.07856', '1507.08235', '1508.00510', '1508.01014', '1508.01586', '1508.02149', '1508.02388', '1508.02773', '1508.03280', '1508.05189', '1508.05737', '1508.05788', '1508.06420', '1508.06511', '1508.06792', '1508.06847', '1508.06874', '1509.00279', '1509.00524', '1509.01866', '1509.02557', '1509.05623', '1509.05662', '1509.05896', '1509.06357', '1509.06984', '1509.07200', '1509.07437', '1509.07687', '1509.08251', '1509.09271', '1510.00229', '1510.00354', '1510.00886', '1510.01541', '1510.03045', '1510.03227', '1510.03387', '1510.03482', '1510.04521', '1510.04617', '1510.04833', '1510.04849', '1510.05860', '1510.06743', '1510.06789', '1510.07462', '1510.08786', '1511.00382', '1511.04385', '1511.05449', '1511.05546', '1511.05750', '1511.07100', '1511.07605', '1511.07729', '1511.08113', '1511.08841', '1511.09360', '1512.00482', '1512.00766', '1512.01150', '1512.02379', '1512.03127', '1512.03393', '1512.04375', '1512.04386', '1512.05064', '1512.05839', '1512.05948', '1512.05996', '1512.06678', '1512.07009', '1512.07892', '1512.08554', '1601.02258', '1601.02658', '1601.04935', '1601.05353', '1601.05360', '1601.05683', '1601.06101', '1601.06291', '1601.06522', '1601.07629', '1601.08229', '1602.00546', '1602.01295', '1602.02432', '1602.02743', '1602.02788', '1602.03050', '1602.03124', '1602.03985', '1602.04275', '1602.04353', '1602.04732', '1602.04934', '1602.05152', '1602.05432', '1602.05622', '1602.05819', '1602.06052', '1602.06073', '1602.07210', '1602.07407', '1602.07796', '1602.07827', '1602.07876', '1602.07967', '1602.08620', '1602.08648', '1602.08656', '1603.00082', '1603.00091', '1603.00254', '1603.00928', '1603.00977', '1603.01925', '1603.01977', '1603.02298', '1603.02580', '1603.02605', '1603.02724', '1603.03999', '1603.04606', '1603.05620', '1603.06505', '1603.06985', '1603.07786', '1603.08430', '1603.09333', '1603.09531', '1604.00932', '1604.01067', '1604.01757', '1604.03072', '1604.03243', '1604.04549', '1604.05354', '1604.06431', '1604.06617', '1604.06715', '1604.07063', '1604.07724', '1604.08936', '1604.08944', '1605.01207', '1605.01718', '1605.02210', '1605.03266', '1605.03871', '1605.04000', '1605.04122', '1605.04715', '1605.05836', '1605.06692', '1605.06801', '1605.06814', '1605.07061', '1605.07959', '1605.09013', '1606.01172', '1606.02889', '1606.03233', '1606.03585', '1606.03878', '1606.04253', '1606.04383', '1606.04592', '1606.06581', '1606.06801', '1606.06803', '1606.07467', '1606.09000', '1606.09065', '1607.00259', '1607.00574', '1607.02346', '1607.04604', '1607.06473', '1607.06757', '1607.07156', '1607.07950', '1608.00180', '1608.01292', '1608.02530', '1608.03439', '1608.04633', '1608.04829', '1608.07505', '1609.00457', '1609.01078', '1609.01541', '1609.02103', '1609.02562', '1609.03278', '1609.03650', '1609.04449', '1609.04593', '1609.04918', '1609.05876', '1609.05942', '1609.06508', '1609.08059', '1609.08095', '1610.00373', '1610.00571', '1610.01019', '1610.01920', '1610.04026', '1610.04946', '1610.05493', '1610.06503', '1610.07244', '1610.07685', '1610.07737', '1610.07999', '1610.08364', '1610.08739', '1610.09130', '1610.09574', '1610.09660', '1610.09834', '1611.00827', '1611.00886', '1611.00934', '1611.01090', '1611.01823', '1611.02315', '1611.04178', '1611.05086', '1611.05633', '1611.05641', '1611.05819', '1611.06593', '1611.08400', '1611.09296', '1611.09541', '1612.00675', '1612.01652', '1612.01752', '1612.03086', '1612.04914', '1612.05221', '1612.05602', '1612.06092', '1612.07015', '1612.07601', '1612.08351', '1701.00637', '1701.01413', '1701.02162', '1701.02188', '1701.02374', '1701.02401', '1701.02409', '1701.02764', '1701.02996', '1701.03297', '1701.03990', '1701.04086', '1701.05378', '1701.05382', '1701.06064', '1701.06386', '1701.06639', '1701.06942', '1701.07822', '1701.08108', '1701.08925', '1702.00533', '1702.00558', '1702.00767', '1702.01666', '1702.02017', '1702.02863', '1702.04300', '1702.04432', '1702.05447', '1702.05760', '1702.05927', '1702.06616', '1702.06997', '1702.08084', '1702.08443', '1702.08483', '1702.08660', '1702.08662', '1702.08830', '1703.01928', '1703.03262', '1703.04281', '1703.04300', '1703.05015', '1703.05332', '1703.05881', '1703.06048', '1703.06127', '1703.06423', '1703.06983', '1703.07184', '1703.07406', '1703.07657', '1703.07833', '1703.08746', '1704.00238', '1704.00249', '1704.00468', '1704.00497', '1704.01514', '1704.01929', '1704.02099', '1704.03640', '1704.03730', '1704.03758', '1704.04546', '1704.05303', '1704.05641', '1704.05798', '1704.05896', '1704.06493', '1704.06622', '1704.07083', '1704.07291', '1704.08536', '1704.08705', '1704.08934', '1705.01194', '1705.01465', '1705.01773', '1705.03866', '1705.06643', '1705.07728', '1705.08282', '1705.09379', '1705.09710', '1705.11060', '1706.00080', '1706.02202', '1706.02205', '1706.03451', '1706.03750', '1706.06467', '1706.08023', '1706.08050', '1706.08414', '1706.09043', '1706.09052', '1706.09066', '1706.09393', '1706.09608', '1706.09696', '1706.09854', '1706.10153', '1707.03125', '1707.03584', '1707.04251', '1707.04310', '1707.04609', '1707.05846', '1707.05941', '1707.06992', '1707.09327', '1707.09440', '1707.09553', '1708.00113', '1708.00917', '1708.01070', '1708.01212', '1708.02772', '1708.03515', '1708.04713', '1708.05339', '1708.05976', '1708.06730', '1708.06805', '1708.07217', '1708.08179', '1708.08292', '1708.09095', '1708.09238', '1708.09455', '1709.00735', '1709.01670', '1709.02094', '1709.03663', '1709.06172', '1709.06188', '1709.06805', '1709.07610', '1709.08216', '1709.08510', '1709.08792', '1709.09464', '1709.09484', '1709.10063', '1710.00321', '1710.00328', '1710.00528', '1710.03312', '1710.04640', '1710.05481', '1710.07132', '1710.07584', '1710.08163', '1710.08225', '1710.09278', '1710.11278', '1711.00686', '1711.00956', '1711.01355', '1711.02455', '1711.03415', '1711.03886', '1711.04184', '1711.04427', '1711.08852', '1711.08885', '1711.10176', '1711.10436', '1711.10605', '1711.10661', '1712.00200', '1712.02447', '1712.03158', '1712.06309', '1712.07276', '1712.07476', '1712.07880', '1712.08362', '1712.08939', '1712.09630', '1712.10052', '1801.00496', '1801.00527', '1801.00742', '1801.00843', '1801.00906', '1801.02043', '1801.02602', '1801.03162', '1801.04607', '1801.04987', '1801.05717', '1801.05721', '1801.06620', '1801.07108', '1801.07321', '1801.10416', '1801.10483', '1802.00160', '1802.00659', '1802.00974', '1802.01453', '1802.02497', '1802.03028', '1802.03815', '1802.04030', '1802.04032', '1802.04498', '1802.06361', '1802.06464', '1802.06699', '1802.06928', '1802.07046', '1802.07085', '1802.07433', '1802.07632', '1802.08444', '1802.09263', '1802.09465', '1802.10004', '1803.03600', '1803.03663', '1803.04104', '1803.05498', '1803.06636', '1803.06878', '1803.07683', '1803.09954', '1803.09963', '1804.05105', '1804.06675', '1804.07799', '1804.07975', '1804.08555', '1804.08810', '1804.08868', '1804.08885', '1804.09341', '1804.11102', '1805.00059', '1805.01310', '1805.02089', '1805.02572', '1805.03253', '1805.03624', '1805.03685', '1805.04179', '1805.04731', '1805.04832', '1805.05845', '1805.06315', '1805.06699', '1805.06836', '1805.08554', '1806.00417', '1806.00472', '1806.00541', '1806.03501', '1806.04103', '1806.06173', '1806.07740', '1806.08681', '1806.08747', '1806.10389', '1806.10513', '1806.10963', '1806.11282', '1806.11413', '1807.00645', '1807.00985', '1807.01680', '1807.01920', '1807.02790', '1807.03074', '1807.04735', '1807.04920', '1807.05169', '1807.05385', '1807.05777', '1807.06397', '1807.06469', '1807.07762', '1807.07785', '1807.08579', '1807.08970', '1807.10464', '1807.11137', '1807.11845', '1808.02359', '1808.02821', '1808.04448', '1808.04539', '1808.04925', '1808.05676', '1808.08913', '1808.09194', '1808.10068', '1808.10531', '1809.01021', '1809.01225', '1809.01998', '1809.02434', '1809.03103', '1809.04954', '1809.06956', '1809.08453', '1809.08858', '1809.09776', '1809.10578', '1810.01111', '1810.01166', '1810.01223', '1810.01393', '1810.01542', '1810.03742', '1810.03811', '1810.04063', '1810.04190', '1810.04379', '1810.04620', '1810.04629', '1810.06872', '1810.07358', '1810.08484', '1810.10361', '1810.10961', '1810.11391', '1810.12792', '1810.13246', '1811.00824', '1811.01235', '1811.01651', '1811.03019', '1811.04607', '1811.04753', '1811.04826', '1811.05511', '1811.05630', '1811.06336', '1811.07649', '1811.08097', '1811.11593', '1811.11667', '1812.01482', '1812.02037', '1812.02215', '1812.02507', '1812.03155', '1812.03592', '1812.03703', '1812.04401', '1812.06952', '1812.07793', '1812.07844', '1812.11685', '1901.00138', '1901.00316', '1901.00988', '1901.01637', '1901.01861', '1901.02560', '1901.02857', '1901.03582', '1901.04068', '1901.05854', '1901.06702', '1901.09298', '1901.09739', '1901.11343', '1902.00196', '1902.01668', '1902.01765', '1902.01960', '1902.02258', '1902.02967', '1902.03560', '1902.03879', '1902.03883', '1902.04703', '1902.04960', '1902.05487', '1902.05529', '1902.06196', '1902.07336', '1902.07349', '1902.07465', '1902.07515', '1902.08382', '1902.09407', '1902.09597', '1902.10188', '1902.10773', '1902.11149', '1902.11169', '1902.11257', '1903.00355', '1903.01800', '1903.04039', '1903.04325', '1903.04996', '1903.05425', '1903.11635', '1904.00702', '1904.01503', '1904.02231', '1904.02362', '1904.03636', '1904.04299', '1904.05011', '1904.05974', '1904.06069', '1904.06107', '1904.06204', '1904.08078', '1904.08343', '1904.09246', '1904.09433', '1904.09828', '1904.10210', '1904.10454', '1904.10479', '1904.11395', '1904.12156', '1904.12424', '1904.12503', '1904.12533', '1904.13019', '1905.00305', '1905.00444', '1905.01822', '1905.02518', '1905.03124', '1905.03134', '1905.03148', '1905.03610', '1905.03631', '1905.04162', '1905.04325', '1905.04695', '1905.04827', '1905.05114', '1905.05334', '1905.05669', '1905.07135', '1905.08621', '1905.09163', '1905.09401', '1905.11166', '1905.11458', '1905.11635', '1906.00659', '1906.00703', '1906.01228', '1906.02842', '1906.03676', '1906.04178', '1906.05266', '1906.05565', '1906.07031', '1906.08902', '1906.09226', '1906.10705', '1907.00412', '1907.00872', '1907.01076', '1907.01129', '1907.01258', '1907.01624', '1907.02251', '1907.02353', '1907.03526', '1907.03850', '1907.04132', '1907.04628', '1907.04826', '1907.05296', '1907.06012', '1907.08093', '1907.09108', '1907.09280', '1907.09582', '1907.11010', '1907.12619', '1908.00041', '1908.00491', '1908.02530', '1908.03363', '1908.03870', '1908.04921', '1908.04923', '1908.05966', '1908.07282', '1908.08347', '1908.09606', '1908.09942', '1908.09959', '1908.11518', '1909.00857', '1909.01060', '1909.01667', '1909.02579', '1909.04785', '1909.05901', '1909.05968', '1909.06210', '1909.06437', '1909.07498', '1909.08233', '1909.08426', '1909.08608', '1909.09518', '1909.10279', '1909.11554', '1909.12004', '1909.12256', '1909.13781', '1909.13848', '1910.00305', '1910.00510', '1910.00724', '1910.01082', '1910.01251', '1910.01293', '1910.01331', '1910.01357', '1910.02048', '1910.02849', '1910.04600', '1910.04848', '1910.06088', '1910.06281', '1910.06435', '1910.09190', '1910.09228', '1910.09625', '1910.09791', '1910.10357', '1910.11921', '1910.12026', '1910.12085', '1910.12504', '1911.00403', '1911.02040', '1911.02540', '1911.03026', '1911.03272', '1911.03427', '1911.04122', '1911.04734', '1911.05834', '1911.06664', '1911.06793', '1911.07981', '1911.08043', '1911.08964', '1911.09133', '1911.09176', '1911.09379', '1911.09944', '1911.10363', '1911.11257', '1911.12242', '1911.12638', '1911.13104', '1912.00284', '1912.00345', '1912.00837', '1912.01382', '1912.02820', '1912.04392', '1912.06526', '1912.08045', '1912.08277', '1912.08482', '1912.10217', '1912.11396', '1912.11927', '1912.12430', '2001.00943', '2001.01961', '2001.03962', '2001.04120', '2001.05553', '2001.07059', '2001.08190', '2001.08439', '2001.09198', '2001.10148', '2001.10204', '2002.00629', '2002.00713', '2002.00943', '2002.01307', '2002.01743', '2002.03725', '2002.04778', '2002.04841', '2002.05239', '2002.06005', '2002.06078', '2002.07054', '2002.07569', '2002.07659', '2002.07695', '2002.08086', '2002.08626', '2002.08634', '2002.08992', '2002.10145', '2002.11594', '2002.12119', '2002.12771', '2003.00314', '2003.00644', '2003.01591', '2003.02323', '2003.02524', '2003.02583', '2003.02962', '2003.03595', '2003.06993', '2003.07345', '2003.07487', '2003.10000', '2003.10712', '2003.11313', '2003.11951', '2004.03387', '2004.05018', '2004.05022', '2004.07492', '2004.08324', '2004.08783']\n"
     ]
    }
   ],
   "source": [
    "print(len(trainable_file_names))\n",
    "print(trainable_file_names)"
   ]
  },
  {
   "cell_type": "code",
   "execution_count": 48,
   "id": "af269a11",
   "metadata": {},
   "outputs": [
    {
     "name": "stdout",
     "output_type": "stream",
     "text": [
      "1773\n",
      "['llncs', 'IEEEtran', 'llncs', 'IEEEtran', 'IEEEtran', 'llncs', 'LMCS', 'llncs', 'eptcs', 'eptcs', 'eptcs', 'eptcs', 'eptcs', 'eptcs', 'eptcs', 'eptcs', 'eptcs', 'eptcs', 'eptcs', 'eptcs', 'eptcs', 'eptcs', 'eptcs', 'eptcs', 'eptcs', 'elsarticle', 'eptcs', 'revtex4', 'amsart', 'llncs', 'llncs', 'llncs', 'amsart', 'eptcs', 'llncs', 'revtex4', 'amsart', 'revtex4', 'amsart', 'revtex4', 'elsarticle', 'amsart', 'llncs', 'amsart', 'amsart', 'revtex4', 'llncs', 'revtex4', 'eptcs', 'eptcs', 'LMCS', 'llncs', 'llncs', 'llncs', 'LMCS', 'revtex4', 'amsart', 'amsart', 'IEEEtran', 'scrartcl', 'llncs', 'elsarticle', 'eptcs', 'eptcs', 'eptcs', 'revtex4', 'elsarticle', 'llncs', 'llncs', 'amsart', 'llncs', 'revtex4', 'llncs', 'llncs', 'amsart', 'llncs', 'llncs', 'llncs', 'amsart', 'revtex4', 'llncs', 'llncs', 'amsart', 'scrartcl', 'amsart', 'elsarticle', 'llncs', 'amsart', 'llncs', 'svjour3', 'llncs', 'elsarticle', 'IEEEtran', 'llncs', 'llncs', 'llncs', 'llncs', 'amsart', 'llncs', 'amsart', 'amsart', 'llncs', 'llncs', 'llncs', 'amsart', 'amsart', 'elsarticle', 'IEEEtran', 'elsarticle', 'amsart', 'llncs', 'llncs', 'llncs', 'amsart', 'llncs', 'llncs', 'revtex4', 'eptcs', 'eptcs', 'llncs', 'acmart', 'revtex4', 'llncs', 'amsart', 'llncs', 'llncs', 'eptcs', 'eptcs', 'eptcs', 'eptcs', 'eptcs', 'eptcs', 'llncs', 'llncs', 'eptcs', 'eptcs', 'eptcs', 'eptcs', 'llncs', 'llncs', 'IEEEtran', 'llncs', 'revtex4-1', 'IEEEtran', 'revtex4', 'llncs', 'elsarticle', 'IEEEtran', 'llncs', 'llncs', 'amsart', 'llncs', 'elsarticle', 'llncs', 'elsarticle', 'LMCS', 'llncs', 'eptcs', 'eptcs', 'svjour3', 'scrartcl', 'llncs', 'llncs', 'revtex4', 'elsarticle', 'llncs', 'LMCS', 'revtex4-1', 'llncs', 'llncs', 'IEEEtran', 'llncs', 'llncs', 'scrartcl', 'elsarticle', 'llncs', 'revtex4', 'IEEEtran', 'amsart', 'eptcs', 'llncs', 'amsart', 'amsart', 'amsart', 'amsart', 'amsart', 'llncs', 'llncs', 'amsart', 'llncs', 'revtex4-1', 'llncs', 'llncs', 'amsart', 'elsarticle', 'llncs', 'elsarticle', 'amsart', 'llncs', 'eptcs', 'llncs', 'amsart', 'revtex4', 'llncs', 'elsarticle', 'llncs', 'eptcs', 'elsarticle', 'amsart', 'llncs', 'llncs', 'llncs', 'elsarticle', 'llncs', 'llncs', 'llncs', 'LMCS', 'llncs', 'llncs', 'IEEEtran', 'llncs', 'eptcs', 'llncs', 'revtex4', 'llncs', 'llncs', 'llncs', 'llncs', 'elsarticle', 'revtex4-1', 'eptcs', 'llncs', 'revtex4', 'LMCS', 'IEEEtran', 'elsarticle', 'scrartcl', 'scrartcl', 'llncs', 'revtex4-1', 'amsart', 'elsarticle', 'llncs', 'llncs', 'llncs', 'svjour3', 'scrartcl', 'llncs', 'llncs', 'amsart', 'llncs', 'amsart', 'llncs', 'llncs', 'amsart', 'llncs', 'amsart', 'eptcs', 'eptcs', 'elsarticle', 'llncs', 'elsarticle', 'llncs', 'elsarticle', 'llncs', 'llncs', 'amsart', 'LMCS', 'llncs', 'LMCS', 'IEEEtran', 'llncs', 'amsart', 'IEEEtran', 'IEEEtran', 'llncs', 'revtex4-1', 'amsart', 'llncs', 'eptcs', 'eptcs', 'svjour3', 'IEEEtran', 'elsarticle', 'IEEEtran', 'llncs', 'revtex4-1', 'LMCS', 'elsarticle', 'IEEEtran', 'revtex4', 'amsart', 'amsart', 'llncs', 'LMCS', 'amsart', 'llncs', 'amsart', 'llncs', 'revtex4', 'llncs', 'amsart', 'scrartcl', 'amsart', 'scrartcl', 'llncs', 'amsart', 'elsarticle', 'amsart', 'elsarticle', 'llncs', 'svjour3', 'amsart', 'lipics', 'amsart', 'amsart', 'llncs', 'llncs', 'amsart', 'llncs', 'llncs', 'amsart', 'amsart', 'llncs', 'amsart', 'llncs', 'llncs', 'llncs', 'llncs', 'eptcs', 'eptcs', 'elsarticle', 'revtex4', 'IEEEtran', 'llncs', 'llncs', 'amsart', 'elsarticle', 'amsart', 'amsart', 'scrartcl', 'LMCS', 'amsart', 'llncs', 'amsart', 'amsart', 'elsarticle', 'llncs', 'llncs', 'llncs', 'llncs', 'llncs', 'llncs', 'amsart', 'llncs', 'amsart', 'amsart', 'llncs', 'scrartcl', 'llncs', 'llncs', 'eptcs', 'llncs', 'llncs', 'amsart', 'amsart', 'llncs', 'IEEEtran', 'llncs', 'llncs', 'LMCS', 'LMCS', 'llncs', 'IEEEtran', 'llncs', 'amsart', 'scrartcl', 'llncs', 'llncs', 'LMCS', 'elsarticle', 'LMCS', 'llncs', 'llncs', 'amsart', 'amsart', 'IEEEtran', 'elsarticle', 'amsart', 'scrartcl', 'llncs', 'llncs', 'amsart', 'llncs', 'LMCS', 'LMCS', 'IEEEtran', 'lipics', 'lipics', 'llncs', 'lipics', 'llncs', 'LMCS', 'svjour3', 'elsarticle', 'eptcs', 'amsart', 'eptcs', 'eptcs', 'eptcs', 'eptcs', 'eptcs', 'eptcs', 'eptcs', 'eptcs', 'eptcs', 'eptcs', 'eptcs', 'eptcs', 'eptcs', 'eptcs', 'eptcs', 'eptcs', 'eptcs', 'amsart', 'amsart', 'llncs', 'scrartcl', 'amsart', 'amsart', 'llncs', 'scrartcl', 'llncs', 'scrartcl', 'llncs', 'LMCS', 'revtex4', 'llncs', 'LMCS', 'revtex4-1', 'eptcs', 'eptcs', 'LMCS', 'llncs', 'amsart', 'elsarticle', 'llncs', 'llncs', 'amsart', 'llncs', 'IEEEtran', 'amsart', 'amsart', 'amsart', 'amsart', 'llncs', 'revtex4', 'llncs', 'eptcs', 'amsart', 'LMCS', 'amsart', 'svjour3', 'llncs', 'elsarticle', 'llncs', 'lipics', 'amsart', 'elsarticle', 'llncs', 'amsart', 'scrartcl', 'scrartcl', 'elsarticle', 'llncs', 'LMCS', 'amsart', 'elsarticle', 'amsart', 'eptcs', 'llncs', 'elsarticle', 'revtex4', 'llncs', 'llncs', 'eptcs', 'scrartcl', 'amsart', 'amsart', 'amsart', 'llncs', 'llncs', 'elsarticle', 'eptcs', 'elsarticle', 'amsart', 'elsarticle', 'amsart', 'elsarticle', 'elsarticle', 'lipics', 'elsarticle', 'lipics', 'amsart', 'llncs', 'amsart', 'llncs', 'llncs', 'llncs', 'amsart', 'IEEEtran', 'llncs', 'svjour3', 'amsart', 'amsart', 'scrartcl', 'llncs', 'amsart', 'amsart', 'elsarticle', 'llncs', 'elsarticle', 'llncs', 'svjour3', 'lipics', 'amsart', 'amsart', 'amsart', 'llncs', 'amsart', 'revtex4-1', 'amsart', 'llncs', 'elsarticle', 'revtex4', 'amsart', 'llncs', 'llncs', 'elsarticle', 'llncs', 'amsart', 'amsart', 'LMCS', 'eptcs', 'eptcs', 'llncs', 'llncs', 'LMCS', 'elsarticle', 'svjour3', 'elsarticle', 'amsart', 'amsart', 'amsart', 'llncs', 'llncs', 'llncs', 'llncs', 'amsart', 'amsart', 'elsarticle', 'IEEEtran', 'amsart', 'eptcs', 'eptcs', 'eptcs', 'eptcs', 'llncs', 'amsart', 'llncs', 'llncs', 'llncs', 'eptcs', 'eptcs', 'amsart', 'amsart', 'llncs', 'llncs', 'eptcs', 'llncs', 'elsarticle', 'revtex4-1', 'amsart', 'revtex4-1', 'llncs', 'elsarticle', 'elsarticle', 'llncs', 'amsart', 'revtex4-1', 'llncs', 'llncs', 'llncs', 'amsart', 'llncs', 'llncs', 'IEEEtran', 'amsart', 'llncs', 'amsart', 'amsart', 'llncs', 'revtex4', 'amsart', 'llncs', 'elsarticle', 'lipics', 'amsart', 'amsart', 'amsart', 'llncs', 'elsarticle', 'eptcs', 'IEEEtran', 'lipics', 'amsart', 'llncs', 'IEEEtran', 'IEEEtran', 'scrartcl', 'llncs', 'LMCS', 'amsart', 'amsart', 'llncs', 'llncs', 'amsart', 'llncs', 'llncs', 'llncs', 'llncs', 'llncs', 'llncs', 'llncs', 'llncs', 'amsart', 'IEEEtran', 'elsarticle', 'amsart', 'revtex4', 'elsarticle', 'LMCS', 'llncs', 'llncs', 'llncs', 'amsart', 'revtex4', 'llncs', 'amsart', 'llncs', 'llncs', 'amsart', 'amsart', 'llncs', 'llncs', 'eptcs', 'llncs', 'llncs', 'amsart', 'acmart', 'eptcs', 'elsarticle', 'elsarticle', 'llncs', 'llncs', 'svjour3', 'llncs', 'llncs', 'llncs', 'llncs', 'llncs', 'svjour3', 'elsarticle', 'llncs', 'llncs', 'llncs', 'llncs', 'llncs', 'revtex4', 'scrartcl', 'eptcs', 'eptcs', 'eptcs', 'llncs', 'scrartcl', 'llncs', 'llncs', 'amsart', 'llncs', 'llncs', 'IEEEtran', 'llncs', 'IEEEtran', 'llncs', 'LMCS', 'llncs', 'IEEEtran', 'scrartcl', 'eptcs', 'amsart', 'elsarticle', 'amsart', 'eptcs', 'elsarticle', 'LMCS', 'amsart', 'llncs', 'llncs', 'lipics', 'llncs', 'llncs', 'elsarticle', 'llncs', 'llncs', 'IEEEtran', 'elsarticle', 'elsarticle', 'llncs', 'llncs', 'elsarticle', 'lipics', 'amsart', 'llncs', 'elsarticle', 'IEEEtran', 'revtex4', 'amsart', 'lipics-v2019', 'llncs', 'llncs', 'IEEEtran', 'amsart', 'llncs', 'revtex4', 'elsarticle', 'elsarticle', 'scrartcl', 'amsart', 'amsart', 'amsart', 'llncs', 'llncs', 'amsart', 'lipics', 'scrartcl', 'llncs', 'llncs', 'llncs', 'elsarticle', 'llncs', 'LMCS', 'llncs', 'llncs', 'llncs', 'amsart', 'amsart', 'elsarticle', 'amsart', 'IEEEtran', 'amsart', 'IEEEtran', 'amsart', 'llncs', 'llncs', 'llncs', 'revtex4-1', 'lipics', 'svjour3', 'amsart', 'lipics', 'llncs', 'lipics', 'elsarticle', 'revtex4', 'scrartcl', 'amsart', 'revtex4-1', 'llncs', 'elsarticle', 'svjour3', 'LMCS', 'amsart', 'IEEEtran', 'amsart', 'elsarticle', 'amsart', 'llncs', 'amsart', 'revtex4', 'lipics', 'IEEEtran', 'amsart', 'IEEEtran', 'llncs', 'amsart', 'IEEEtran', 'elsarticle', 'IEEEtran', 'revtex4', 'llncs', 'elsarticle', 'llncs', 'revtex4', 'lipics', 'llncs', 'llncs', 'amsart', 'amsart', 'llncs', 'revtex4-1', 'llncs', 'llncs', 'scrartcl', 'lipics', 'amsart', 'amsart', 'lipics', 'llncs', 'IEEEtran', 'llncs', 'scrartcl', 'svjour3', 'llncs', 'llncs', 'scrartcl', 'elsarticle', 'amsart', 'llncs', 'lipics-v2016', 'scrartcl', 'elsarticle', 'IEEEtran', 'llncs', 'eptcs', 'amsart', 'llncs', 'llncs', 'amsart', 'IEEEtran', 'llncs', 'IEEEtran', 'llncs', 'llncs', 'amsart', 'elsarticle', 'IEEEtran', 'amsart', 'amsart', 'llncs', 'amsart', 'llncs', 'llncs', 'amsart', 'llncs', 'revtex4', 'amsart', 'llncs', 'llncs', 'llncs', 'amsart', 'llncs', 'amsart', 'llncs', 'llncs', 'llncs', 'revtex4-1', 'llncs', 'IEEEtran', 'llncs', 'elsarticle', 'llncs', 'revtex4-1', 'amsart', 'amsart', 'llncs', 'amsart', 'amsart', 'amsart', 'llncs', 'elsarticle', 'llncs', 'llncs', 'llncs', 'scrartcl', 'elsarticle', 'elsarticle', 'llncs', 'lipics', 'elsarticle', 'lipics-v2016', 'llncs', 'amsart', 'amsart', 'amsart', 'llncs', 'amsart', 'lipics', 'elsarticle', 'amsart', 'llncs', 'llncs', 'elsarticle', 'llncs', 'elsarticle', 'IEEEtran', 'amsart', 'elsarticle', 'amsart', 'llncs', 'llncs', 'scrartcl', 'llncs', 'lipics', 'eptcs', 'lipics', 'lipics', 'llncs', 'amsart', 'elsarticle', 'amsart', 'amsart', 'amsart', 'revtex4-1', 'lipics-v2016', 'amsart', 'elsarticle', 'amsart', 'amsart', 'svjour3', 'lipics', 'IEEEtran', 'revtex4-1', 'revtex4', 'elsarticle', 'scrartcl', 'amsart', 'revtex4', 'lipics', 'scrartcl', 'elsarticle', 'llncs', 'amsart', 'amsart', 'amsart', 'lipics', 'elsarticle', 'elsarticle', 'amsart', 'scrartcl', 'lipics', 'amsart', 'amsart', 'revtex4', 'llncs', 'revtex4-1', 'revtex4', 'amsart', 'lipics', 'lipics', 'amsart', 'amsart', 'revtex4', 'llncs', 'amsart', 'lipics-v2016', 'llncs', 'lipics', 'elsarticle', 'revtex4-1', 'elsarticle', 'IEEEtran', 'amsart', 'amsart', 'elsarticle', 'amsart', 'amsart', 'elsarticle', 'amsart', 'llncs', 'acmart', 'amsart', 'amsart', 'amsart', 'llncs', 'llncs', 'revtex4-1', 'llncs', 'llncs', 'amsart', 'llncs', 'revtex4', 'lipics-v2016', 'elsarticle', 'IEEEtran', 'llncs', 'lipics', 'llncs', 'llncs', 'amsart', 'revtex4', 'lipics-v2016', 'elsarticle', 'llncs', 'lipics-v2016', 'eptcs', 'elsarticle', 'lipics-v2016', 'eptcs', 'scrartcl', 'llncs', 'revtex4', 'lipics-v2016', 'llncs', 'amsart', 'elsarticle', 'revtex4', 'elsarticle', 'elsarticle', 'amsart', 'llncs', 'amsart', 'IEEEtran', 'amsart', 'amsart', 'elsarticle', 'amsart', 'revtex4-1', 'amsart', 'llncs', 'scrartcl', 'llncs', 'scrartcl', 'lipics-v2016', 'scrartcl', 'llncs', 'scrartcl', 'llncs', 'revtex4-1', 'svjour3', 'amsart', 'llncs', 'elsarticle', 'llncs', 'elsarticle', 'amsart', 'llncs', 'lipics-v2016', 'llncs', 'amsart', 'amsart', 'IEEEtran', 'lipics-v2018', 'lipics', 'revtex4-1', 'lipics-v2016', 'scrartcl', 'amsart', 'scrartcl', 'eptcs', 'eptcs', 'IEEEtran', 'elsarticle', 'amsart', 'llncs', 'revtex4', 'llncs', 'elsarticle', 'revtex4-1', 'llncs', 'amsart', 'elsarticle', 'llncs', 'amsart', 'amsart', 'lipics-v2016', 'revtex4', 'revtex4', 'llncs', 'revtex4', 'llncs', 'svjour3', 'amsart', 'amsart', 'lipics-v2016', 'revtex4-1', 'llncs', 'llncs', 'lipics-v2016', 'elsarticle', 'scrartcl', 'llncs', 'acmart', 'llncs', 'amsart', 'lipics-v2016', 'elsarticle', 'elsarticle', 'IEEEtran', 'amsart', 'elsarticle', 'amsart', 'revtex4-1', 'revtex4-1', 'amsart', 'amsart', 'amsart', 'llncs', 'llncs', 'amsart', 'amsart', 'llncs', 'amsart', 'amsart', 'llncs', 'acmart', 'scrartcl', 'acmart', 'llncs', 'IEEEtran', 'amsart', 'revtex4-1', 'llncs', 'amsart', 'llncs', 'scrartcl', 'elsarticle', 'llncs', 'revtex4-1', 'scrartcl', 'IEEEtran', 'revtex4', 'elsarticle', 'revtex4-1', 'amsart', 'llncs', 'llncs', 'llncs', 'eptcs', 'elsarticle', 'lipics', 'llncs', 'elsarticle', 'llncs', 'scrartcl', 'amsart', 'IEEEtran', 'amsart', 'amsart', 'lipics-v2016', 'IEEEtran', 'llncs', 'scrartcl', 'elsarticle', 'elsarticle', 'llncs', 'elsarticle', 'llncs', 'IEEEtran', 'llncs', 'acmart', 'eptcs', 'IEEEtran', 'acmart', 'elsarticle', 'svjour3', 'amsart', 'scrartcl', 'llncs', 'revtex4-1', 'lipics', 'scrartcl', 'llncs', 'elsarticle', 'revtex4', 'amsart', 'amsart', 'scrartcl', 'lipics-v2016', 'acmart', 'eptcs', 'elsarticle', 'llncs', 'revtex4-1', 'amsart', 'elsarticle', 'amsart', 'llncs', 'amsart', 'llncs', 'amsart', 'amsart', 'llncs', 'llncs', 'revtex4-1', 'amsart', 'IEEEtran', 'elsarticle', 'revtex4', 'IEEEtran', 'amsart', 'revtex4-1', 'llncs', 'amsart', 'llncs', 'lipics-v2016', 'scrartcl', 'eptcs', 'llncs', 'amsart', 'lipics-v2016', 'amsart', 'IEEEtran', 'lipics-v2016', 'amsart', 'scrartcl', 'amsart', 'llncs', 'llncs', 'amsart', 'amsart', 'elsarticle', 'llncs', 'elsarticle', 'llncs', 'llncs', 'llncs', 'svjour3', 'scrartcl', 'amsart', 'llncs', 'amsart', 'amsart', 'llncs', 'scrartcl', 'llncs', 'llncs', 'lipics-v2016', 'llncs', 'llncs', 'llncs', 'revtex4-1', 'scrartcl', 'revtex4', 'amsart', 'lipics', 'lipics-v2018', 'scrartcl', 'IEEEtran', 'amsart', 'IEEEtran', 'llncs', 'amsart', 'revtex4-1', 'revtex4-1', 'amsart', 'amsart', 'amsart', 'elsarticle', 'lipics-v2016', 'amsart', 'revtex4-1', 'amsart', 'llncs', 'elsarticle', 'amsart', 'amsart', 'llncs', 'amsart', 'llncs', 'llncs', 'svjour3', 'elsarticle', 'eptcs', 'amsart', 'llncs', 'lipics-v2016', 'amsart', 'llncs', 'IEEEtran', 'scrartcl', 'amsart', 'revtex4', 'llncs', 'scrartcl', 'svjour3', 'svjour3', 'amsart', 'amsart', 'elsarticle', 'lipics-v2016', 'lipics-v2016', 'lipics-v2018', 'amsart', 'svjour3', 'revtex4-1', 'amsart', 'revtex4-1', 'svjour3', 'amsart', 'acmart', 'lipics-v2016', 'elsarticle', 'elsarticle', 'amsart', 'elsarticle', 'llncs', 'lipics-v2016', 'scrartcl', 'revtex4', 'amsart', 'amsart', 'llncs', 'lipics-v2016', 'svjour3', 'revtex4-1', 'llncs', 'lipics-v2016', 'llncs', 'lipics-v2016', 'lipics-v2018', 'amsart', 'amsart', 'IEEEtran', 'lipics-v2016', 'amsart', 'lipics-v2016', 'amsart', 'amsart', 'IEEEtran', 'amsart', 'IEEEtran', 'llncs', 'lipics-v2019', 'revtex4', 'llncs', 'amsart', 'svjour3', 'amsart', 'eptcs', 'scrartcl', 'amsart', 'lipics', 'lipics-v2016', 'elsarticle', 'llncs', 'llncs', 'llncs', 'llncs', 'lipics-v2016', 'llncs', 'llncs', 'revtex4-1', 'amsart', 'scrartcl', 'lipics-v2016', 'llncs', 'amsart', 'acmart', 'llncs', 'amsart', 'amsart', 'llncs', 'amsart', 'amsart', 'amsart', 'lipics-v2019', 'IEEEtran', 'revtex4-1', 'IEEEtran', 'llncs', 'lipics-v2018', 'scrartcl', 'lipics-v2018', 'lipics-v2018', 'llncs', 'revtex4', 'lipics-v2018', 'acmart', 'elsarticle', 'llncs', 'acmart', 'lipics-v2019', 'llncs', 'lipics-v2016', 'amsart', 'amsart', 'llncs', 'elsarticle', 'lipics-v2018', 'llncs', 'lipics-v2016', 'lipics-v2016', 'lipics-v2018', 'lipics-v2018', 'amsart', 'revtex4-1', 'amsart', 'llncs', 'revtex4-1', 'IEEEtran', 'lipics-v2018', 'revtex4-1', 'amsart', 'elsarticle', 'lipics-v2018', 'elsarticle', 'revtex4-1', 'llncs', 'amsart', 'lipics-v2018', 'amsart', 'scrartcl', 'svjour3', 'elsarticle', 'llncs', 'lipics-v2019', 'llncs', 'svjour3', 'scrartcl', 'lipics', 'lipics-v2019', 'lipics-v2018', 'amsart', 'IEEEtran', 'revtex4-1', 'elsarticle', 'eptcs', 'revtex4', 'elsarticle', 'elsarticle', 'llncs', 'amsart', 'amsart', 'svjour3', 'lipics-v2018', 'llncs', 'amsart', 'amsart', 'elsarticle', 'llncs', 'elsarticle', 'lipics-v2019', 'eptcs', 'revtex4-1', 'IEEEtran', 'svjour3', 'lipics-v2018', 'llncs', 'llncs', 'amsart', 'revtex4', 'acmart', 'llncs', 'llncs', 'IEEEtran', 'llncs', 'IEEEtran', 'scrartcl', 'llncs', 'lipics-v2018', 'llncs', 'scrartcl', 'amsart', 'llncs', 'amsart', 'amsart', 'llncs', 'scrartcl', 'IEEEtran', 'scrartcl', 'lipics-v2016', 'llncs', 'llncs', 'lipics-v2018', 'scrartcl', 'llncs', 'amsart', 'IEEEtran', 'elsarticle', 'llncs', 'llncs', 'acmart', 'amsart', 'llncs', 'svjour3', 'llncs', 'llncs', 'scrartcl', 'lipics-v2019', 'revtex4', 'lipics-v2018', 'amsart', 'elsarticle', 'elsarticle', 'elsarticle', 'amsart', 'amsart', 'amsart', 'revtex4-1', 'llncs', 'llncs', 'lipics-v2019', 'lipics-v2019', 'lipics-v2019', 'lipics-v2016', 'amsart', 'revtex4-1', 'acmart', 'amsart', 'lipics-v2019', 'lipics-v2019', 'amsart', 'lipics-v2018', 'revtex4', 'acmart', 'lipics-v2019', 'llncs', 'llncs', 'llncs', 'lipics-v2019', 'llncs', 'lipics-v2019', 'acmart', 'amsart', 'amsart', 'lipics-v2019', 'lipics-v2019', 'revtex4-1', 'lipics-v2019', 'lipics-v2019', 'lipics-v2019', 'amsart', 'llncs', 'amsart', 'revtex4-1', 'llncs', 'llncs', 'llncs', 'amsart', 'amsart', 'llncs', 'llncs', 'amsart', 'lipics-v2019', 'revtex4', 'elsarticle', 'llncs', 'amsart', 'llncs', 'llncs', 'revtex4', 'lipics-v2019', 'amsart', 'lipics-v2019', 'lipics-v2019', 'elsarticle', 'IEEEtran', 'IEEEtran', 'lipics-v2019', 'scrartcl', 'lipics-v2019', 'lipics-v2019', 'lipics-v2019', 'lipics-v2019', 'lipics-v2019', 'elsarticle', 'amsart', 'llncs', 'IEEEtran', 'llncs', 'amsart', 'amsart', 'lipics-v2019', 'amsart', 'revtex4-1', 'lipics-v2019', 'lipics-v2019', 'acmart', 'llncs', 'llncs', 'llncs', 'revtex4-1', 'revtex4-1', 'lipics-v2019', 'llncs', 'scrartcl', 'IEEEtran', 'lipics-v2019', 'revtex4', 'amsart', 'lipics-v2019', 'lipics-v2019', 'amsart', 'amsart', 'llncs', 'revtex4-1', 'llncs', 'llncs', 'lipics-v2019', 'IEEEtran', 'acmart', 'revtex4-1', 'scrartcl', 'scrartcl', 'llncs', 'acmart', 'revtex4-1', 'lipics-v2019', 'lipics-v2019', 'llncs', 'lipics-v2019', 'lipics-v2019', 'llncs', 'lipics-v2019', 'amsart', 'lipics-v2019', 'elsarticle', 'lipics-v2019', 'eptcs', 'lipics-v2016', 'amsart', 'llncs', 'llncs', 'acmart', 'llncs', 'llncs', 'lipics-v2019', 'lipics-v2016', 'eptcs', 'eptcs', 'llncs', 'lipics-v2019', 'lipics-v2019', 'acmart', 'llncs', 'amsart', 'svjour3', 'amsart', 'acmart', 'acmart', 'acmart', 'amsart', 'amsart', 'eptcs', 'revtex4', 'lipics-v2019', 'amsart', 'eptcs', 'lipics-v2019', 'IEEEtran', 'amsart', 'IEEEtran', 'IEEEtran', 'lipics-v2019', 'amsart', 'lipics-v2019', 'lipics-v2019', 'lipics-v2019', 'IEEEtran', 'IEEEtran', 'lipics-v2019', 'amsart', 'lipics-v2019', 'IEEEtran', 'llncs', 'lipics-v2019', 'llncs', 'lipics-v2019', 'amsart', 'revtex4-1', 'lipics-v2019', 'acmart', 'llncs', 'lipics-v2019', 'amsart', 'elsarticle', 'acmart', 'amsart', 'lipics-v2019', 'amsart', 'scrartcl', 'lipics-v2019', 'llncs', 'amsart', 'llncs', 'lipics-v2019', 'amsart', 'revtex4-1', 'revtex4', 'llncs', 'acmart', 'amsart', 'amsart', 'amsart', 'llncs', 'llncs', 'lipics-v2019', 'lipics-v2019', 'IEEEtran', 'llncs', 'scrartcl', 'revtex4-1', 'llncs', 'llncs', 'llncs', 'amsart', 'acmart', 'llncs', 'elsarticle', 'lipics-v2019', 'acmart', 'IEEEtran', 'elsarticle', 'llncs', 'amsart', 'elsarticle', 'amsart', 'llncs', 'llncs', 'llncs', 'llncs', 'amsart', 'revtex4-1', 'elsarticle', 'llncs', 'acmart', 'llncs', 'llncs', 'lipics-v2019', 'lipics-v2019', 'elsarticle', 'llncs', 'svjour3', 'amsart', 'llncs', 'lipics-v2019', 'llncs', 'acmart', 'acmart', 'llncs', 'amsart', 'lipics-v2019', 'lipics-v2019', 'lipics-v2019', 'lipics-v2019', 'amsart', 'amsart', 'llncs', 'lipics-v2019', 'lipics-v2019', 'lipics-v2019', 'amsart', 'amsart', 'acmart', 'elsarticle', 'llncs', 'llncs', 'lipics-v2019', 'amsart', 'amsart', 'lipics-v2019', 'amsart', 'amsart', 'lipics-v2019', 'revtex4-1', 'llncs', 'IEEEtran', 'IEEEtran', 'lipics-v2019', 'lipics-v2019', 'llncs', 'lipics-v2019', 'lipics-v2019']\n"
     ]
    }
   ],
   "source": [
    "print(len(trainable_outputs))\n",
    "print(trainable_outputs)"
   ]
  },
  {
   "cell_type": "markdown",
   "id": "0acaac09",
   "metadata": {},
   "source": [
    "### 1.B. Extraction of features via PDFAlto (training set)"
   ]
  },
  {
   "cell_type": "markdown",
   "id": "06426c47",
   "metadata": {},
   "source": [
    "#### Features to be extracted : \n",
    "\n",
    " 1. The principal indent size (space between the very-left of the page and the beginning of the text in a regular paragraph. To do so, we must, among all the \\<TextBlock\\>, find the majoritarian \"HPOS\" value (but with this, we consider that, in the     paper, there will be more written explanations that mathematical formulas ...\n",
    "   \n",
    " 2. The main used font-type. We can either take all \"STYLEREFS\" and find the main associated \"FONTFAMILY\", or focus on all TextBlocks that have the majoritarian \"HPOS\", then look at their \"STYLEREFS\" and finally take the majoritarian associated \"FONTFAMILY\".\n",
    " \n",
    " 3. The \"main\" font-size. By \"main\" font-size, I mean the font-size that is used in the regular TextBlocks, i.e. the ones that have the majoritarian \"HPOS\". Concretely, it corresponds to the paragraphs that only contain english text with explanations. \n",
    " \n",
    " 4. (and 5.) Similar features for the figure descriptions. It is most likely that a paper does contain figures, as we are not sure that it will contain theorems, lemms and so on (even though the selected papers should). So 2 new features : main used font-type and font-size (the HPOS is useless, since figure description are - almost - always centered, and their HPOS are therefore relative to the length of the description itself). \n",
    " \n",
    " 5. Similar features for the abstract, with HPOS."
   ]
  },
  {
   "cell_type": "code",
   "execution_count": 244,
   "id": "951f84c9",
   "metadata": {},
   "outputs": [],
   "source": [
    "training_set_size = 30\n",
    "number_of_features = 3"
   ]
  },
  {
   "cell_type": "code",
   "execution_count": 235,
   "id": "10fe86d8",
   "metadata": {},
   "outputs": [],
   "source": [
    "# Features 1 to 3\n",
    "\n",
    "import xml.etree.ElementTree as ET\n",
    "\n",
    "training_set = np.full((training_set_size, number_of_features), None)\n",
    "\n",
    "for index in range(0, training_set_size):\n",
    "    file_name = \"./pdfalto/xml_tests/\" + trainable_file_names[index] + \".xml\"\n",
    "    \n",
    "    tree = ET.parse(file_name)\n",
    "    root = tree.getroot()\n",
    "\n",
    "    positions_textblocks = []\n",
    "    font_per_string = []\n",
    "\n",
    "    for element in root.findall(\"./{http://www.loc.gov/standards/alto/ns-v3#}Layout/{http://www.loc.gov/standards/alto/ns-v3#}Page/{http://www.loc.gov/standards/alto/ns-v3#}PrintSpace/*\"):\n",
    "        if element.tag == '{http://www.loc.gov/standards/alto/ns-v3#}TextBlock':\n",
    "            positions_textblocks.append(round(float(element.attrib['HPOS']), 1))\n",
    "\n",
    "    occurences_positions_textblocks = {x:positions_textblocks.count(x) for x in positions_textblocks}\n",
    "    majoritarian_hpos = sorted(occurences_positions_textblocks, key=occurences_positions_textblocks.get, reverse=True)[0]\n",
    "\n",
    "\n",
    "    for element in root.findall(\"./{http://www.loc.gov/standards/alto/ns-v3#}Layout/{http://www.loc.gov/standards/alto/ns-v3#}Page/{http://www.loc.gov/standards/alto/ns-v3#}PrintSpace/{http://www.loc.gov/standards/alto/ns-v3#}TextBlock/{http://www.loc.gov/standards/alto/ns-v3#}TextLine/*\"):\n",
    "          if element.tag == \"{http://www.loc.gov/standards/alto/ns-v3#}String\":\n",
    "                font_per_string.append(element.attrib['STYLEREFS'])\n",
    "\n",
    "    occurences_font_per_string = {x:font_per_string.count(x) for x in font_per_string}\n",
    "    majoritarian_font_per_string = sorted(occurences_font_per_string, key=occurences_font_per_string.get, reverse=True)[0]\n",
    "\n",
    "    majoritarian_font_size = 0\n",
    "    majoritarian_font_family = \"\"\n",
    "\n",
    "    for element in root.findall(\"./{http://www.loc.gov/standards/alto/ns-v3#}Styles/*\"):\n",
    "        if element.attrib['ID'] == majoritarian_font_per_string:\n",
    "            majoritarian_font_size = round(float(element.attrib['FONTSIZE']), 1)\n",
    "            majoritarian_font_family = element.attrib['FONTFAMILY']\n",
    "            \n",
    "    training_set[index, 0] = majoritarian_hpos\n",
    "    training_set[index, 1] = majoritarian_font_size\n",
    "    training_set[index, 2] = majoritarian_font_family"
   ]
  },
  {
   "cell_type": "code",
   "execution_count": 257,
   "id": "377598fe",
   "metadata": {
    "scrolled": false
   },
   "outputs": [],
   "source": [
    "distinct_fonts = []\n",
    "\n",
    "for font in training_set[:, 2]:\n",
    "    if not(font in distinct_fonts):\n",
    "        distinct_fonts.append(font)\n",
    "\n",
    "for index in range(0, training_set_size):\n",
    "    for distinct_fonts_index in range(0, training_set_size):\n",
    "        if distinct_fonts[distinct_fonts_index] == training_set[index, 2]:\n",
    "            training_set[index, 2] = distinct_fonts_index\n",
    "            break\n",
    "            \n",
    "outputs = np.array(trainable_outputs[0:training_set_size])\n",
    "\n",
    "\n",
    "distinct_outputs = []\n",
    "\n",
    "for output in outputs:\n",
    "    if not(output in distinct_outputs):\n",
    "        distinct_outputs.append(output)\n",
    "        \n",
    "for index in range(0, training_set_size):\n",
    "    for distinct_outputs_index in range(0, training_set_size):\n",
    "        if distinct_outputs[distinct_outputs_index] == outputs[index]:\n",
    "            outputs[index] = distinct_outputs_index\n",
    "            break"
   ]
  },
  {
   "cell_type": "code",
   "execution_count": 258,
   "id": "b8507ff8",
   "metadata": {},
   "outputs": [
    {
     "name": "stdout",
     "output_type": "stream",
     "text": [
      "[[90.0 10.0 0]\n",
      " [49.0 10.0 1]\n",
      " [134.8 10.0 2]\n",
      " [312.0 10.0 1]\n",
      " [54.0 10.0 2]\n",
      " [134.8 10.0 0]\n",
      " [90.0 10.9 0]\n",
      " [134.8 10.0 0]\n",
      " [79.2 10.9 2]\n",
      " [79.2 10.9 2]\n",
      " [79.2 10.9 2]\n",
      " [79.2 10.9 2]\n",
      " [79.2 10.9 2]\n",
      " [79.2 10.9 2]\n",
      " [79.2 10.9 2]\n",
      " [79.2 10.9 1]\n",
      " [79.2 10.9 2]\n",
      " [79.2 10.9 2]\n",
      " [79.2 10.9 2]\n",
      " [79.2 10.9 2]\n",
      " [79.2 10.9 1]\n",
      " [79.2 10.9 2]\n",
      " [79.2 10.9 1]\n",
      " [79.2 10.9 1]\n",
      " [79.2 10.9 1]\n",
      " [110.9 12.0 3]\n",
      " [79.2 10.9 2]\n",
      " [64.8 10.0 0]\n",
      " [72.0 10.9 0]\n",
      " [134.8 10.0 0]]\n",
      "['0' '1' '0' '1' '1' '0' '2' '0' '3' '3' '3' '3' '3' '3' '3' '3' '3' '3'\n",
      " '3' '3' '3' '3' '3' '3' '3' '4' '3' '5' '6' '0']\n"
     ]
    }
   ],
   "source": [
    "print(training_set)\n",
    "print(outputs)"
   ]
  },
  {
   "cell_type": "markdown",
   "id": "dea05eed",
   "metadata": {},
   "source": [
    "## Part 2 : model training\n",
    "\n",
    "We will use an SVM model from scikitlearn to try a first learning phase."
   ]
  },
  {
   "cell_type": "code",
   "execution_count": 265,
   "id": "a8eb3f86",
   "metadata": {},
   "outputs": [
    {
     "name": "stdout",
     "output_type": "stream",
     "text": [
      "['0' '1' '0' '1' '1' '0' '3' '0' '3' '3' '3' '3' '3' '3' '3' '3' '3' '3'\n",
      " '3' '3' '3' '3' '3' '3' '3' '4' '3' '0' '3' '0']\n",
      "['0' '1' '0' '1' '1' '0' '2' '0' '3' '3' '3' '3' '3' '3' '3' '3' '3' '3'\n",
      " '3' '3' '3' '3' '3' '3' '3' '4' '3' '5' '6' '0']\n",
      "0.9\n"
     ]
    }
   ],
   "source": [
    "from sklearn.svm import SVC\n",
    "from sklearn.preprocessing import StandardScaler\n",
    "from sklearn.pipeline import make_pipeline\n",
    "\n",
    "model = make_pipeline(StandardScaler(), SVC(gamma='auto'))\n",
    "model.fit(training_set, outputs)\n",
    "\n",
    "print(model.predict(training_set))\n",
    "print(outputs)\n",
    "print(model.score(training_set, outputs))"
   ]
  },
  {
   "cell_type": "code",
   "execution_count": null,
   "id": "09bf422e",
   "metadata": {},
   "outputs": [],
   "source": []
  }
 ],
 "metadata": {
  "kernelspec": {
   "display_name": "Python 3",
   "language": "python",
   "name": "python3"
  },
  "language_info": {
   "codemirror_mode": {
    "name": "ipython",
    "version": 3
   },
   "file_extension": ".py",
   "mimetype": "text/x-python",
   "name": "python",
   "nbconvert_exporter": "python",
   "pygments_lexer": "ipython3",
   "version": "3.8.8"
  }
 },
 "nbformat": 4,
 "nbformat_minor": 5
}
